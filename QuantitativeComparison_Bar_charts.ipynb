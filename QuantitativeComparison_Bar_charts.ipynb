{
  "nbformat": 4,
  "nbformat_minor": 0,
  "metadata": {
    "colab": {
      "name": "QuantitativeComparison:Bar-charts.ipynb",
      "provenance": [],
      "collapsed_sections": [],
      "mount_file_id": "1UKgiJH3OxfKYDqZd2wOGWCkwphbedwE0",
      "authorship_tag": "ABX9TyO9+llgzjl7J0hqgbKyfUqf",
      "include_colab_link": true
    },
    "kernelspec": {
      "name": "python3",
      "display_name": "Python 3"
    }
  },
  "cells": [
    {
      "cell_type": "markdown",
      "metadata": {
        "id": "view-in-github",
        "colab_type": "text"
      },
      "source": [
        "<a href=\"https://colab.research.google.com/github/iffishells/Data-Visualization-with-Python/blob/main/QuantitativeComparison_Bar_charts.ipynb\" target=\"_parent\"><img src=\"https://colab.research.google.com/assets/colab-badge.svg\" alt=\"Open In Colab\"/></a>"
      ]
    },
    {
      "cell_type": "code",
      "metadata": {
        "id": "_5xszNynF96t"
      },
      "source": [
        "# from google.colab import drive\n",
        "# drive.mount('/content/drive')\n",
        "\n",
        "import pandas as pd\n",
        "import matplotlib.pyplot as plt\n",
        "\n",
        "file = \"/content/drive/MyDrive/Data/medals_by_country_2016.csv\"\n",
        "medals = pd.read_csv(file)"
      ],
      "execution_count": 16,
      "outputs": []
    },
    {
      "cell_type": "code",
      "metadata": {
        "id": "uh7ER9t0HVC3",
        "colab": {
          "base_uri": "https://localhost:8080/",
          "height": 343
        },
        "outputId": "73f40d91-bc63-4cbb-94fc-df9c476cfad3"
      },
      "source": [
        "\n",
        "medals"
      ],
      "execution_count": 17,
      "outputs": [
        {
          "output_type": "execute_result",
          "data": {
            "text/html": [
              "<div>\n",
              "<style scoped>\n",
              "    .dataframe tbody tr th:only-of-type {\n",
              "        vertical-align: middle;\n",
              "    }\n",
              "\n",
              "    .dataframe tbody tr th {\n",
              "        vertical-align: top;\n",
              "    }\n",
              "\n",
              "    .dataframe thead th {\n",
              "        text-align: right;\n",
              "    }\n",
              "</style>\n",
              "<table border=\"1\" class=\"dataframe\">\n",
              "  <thead>\n",
              "    <tr style=\"text-align: right;\">\n",
              "      <th></th>\n",
              "      <th>Unnamed: 0</th>\n",
              "      <th>Bronze</th>\n",
              "      <th>Gold</th>\n",
              "      <th>Silver</th>\n",
              "    </tr>\n",
              "  </thead>\n",
              "  <tbody>\n",
              "    <tr>\n",
              "      <th>0</th>\n",
              "      <td>United States</td>\n",
              "      <td>67</td>\n",
              "      <td>137</td>\n",
              "      <td>52</td>\n",
              "    </tr>\n",
              "    <tr>\n",
              "      <th>1</th>\n",
              "      <td>Germany</td>\n",
              "      <td>67</td>\n",
              "      <td>47</td>\n",
              "      <td>43</td>\n",
              "    </tr>\n",
              "    <tr>\n",
              "      <th>2</th>\n",
              "      <td>Great Britain</td>\n",
              "      <td>26</td>\n",
              "      <td>64</td>\n",
              "      <td>55</td>\n",
              "    </tr>\n",
              "    <tr>\n",
              "      <th>3</th>\n",
              "      <td>Russia</td>\n",
              "      <td>35</td>\n",
              "      <td>50</td>\n",
              "      <td>28</td>\n",
              "    </tr>\n",
              "    <tr>\n",
              "      <th>4</th>\n",
              "      <td>China</td>\n",
              "      <td>35</td>\n",
              "      <td>44</td>\n",
              "      <td>30</td>\n",
              "    </tr>\n",
              "    <tr>\n",
              "      <th>5</th>\n",
              "      <td>France</td>\n",
              "      <td>21</td>\n",
              "      <td>20</td>\n",
              "      <td>55</td>\n",
              "    </tr>\n",
              "    <tr>\n",
              "      <th>6</th>\n",
              "      <td>Australia</td>\n",
              "      <td>25</td>\n",
              "      <td>23</td>\n",
              "      <td>34</td>\n",
              "    </tr>\n",
              "    <tr>\n",
              "      <th>7</th>\n",
              "      <td>Italy</td>\n",
              "      <td>24</td>\n",
              "      <td>8</td>\n",
              "      <td>38</td>\n",
              "    </tr>\n",
              "    <tr>\n",
              "      <th>8</th>\n",
              "      <td>Canada</td>\n",
              "      <td>61</td>\n",
              "      <td>4</td>\n",
              "      <td>4</td>\n",
              "    </tr>\n",
              "    <tr>\n",
              "      <th>9</th>\n",
              "      <td>Japan</td>\n",
              "      <td>34</td>\n",
              "      <td>17</td>\n",
              "      <td>13</td>\n",
              "    </tr>\n",
              "  </tbody>\n",
              "</table>\n",
              "</div>"
            ],
            "text/plain": [
              "      Unnamed: 0  Bronze  Gold  Silver\n",
              "0  United States      67   137      52\n",
              "1        Germany      67    47      43\n",
              "2  Great Britain      26    64      55\n",
              "3         Russia      35    50      28\n",
              "4          China      35    44      30\n",
              "5         France      21    20      55\n",
              "6      Australia      25    23      34\n",
              "7          Italy      24     8      38\n",
              "8         Canada      61     4       4\n",
              "9          Japan      34    17      13"
            ]
          },
          "metadata": {
            "tags": []
          },
          "execution_count": 17
        }
      ]
    },
    {
      "cell_type": "code",
      "metadata": {
        "id": "CHC04iHwGA86"
      },
      "source": [
        ""
      ],
      "execution_count": 17,
      "outputs": []
    },
    {
      "cell_type": "markdown",
      "metadata": {
        "id": "Cdfh1Wm7IMHk"
      },
      "source": [
        "***Olympic medals : Visualizing the Data***"
      ]
    },
    {
      "cell_type": "markdown",
      "metadata": {
        "id": "MrDB2Kr-HCXi"
      },
      "source": [
        "**Address Problem**# New Section"
      ]
    },
    {
      "cell_type": "code",
      "metadata": {
        "id": "ttpZ6N55HLL_",
        "colab": {
          "base_uri": "https://localhost:8080/",
          "height": 265
        },
        "outputId": "af1d2d1b-2dd1-4bd9-f9b4-e86905a32b49"
      },
      "source": [
        "medals = pd.read_csv(file,index_col=0)\n",
        "fix , ax = plt.subplots()\n",
        "ax.bar(medals.index, medals[\"Gold\"])\n",
        "plt.show()"
      ],
      "execution_count": 18,
      "outputs": [
        {
          "output_type": "display_data",
          "data": {
            "image/png": "[encoded data removed]",
            "text/plain": [
              "<Figure size 432x288 with 1 Axes>"
            ]
          },
          "metadata": {
            "tags": [],
            "needs_background": "light"
          }
        }
      ]
    },
    {
      "cell_type": "code",
      "metadata": {
        "colab": {
          "base_uri": "https://localhost:8080/",
          "height": 323
        },
        "id": "VVbEu8qpIJfn",
        "outputId": "88a6114a-830d-4239-b1b8-42265a421e8c"
      },
      "source": [
        "medals = pd.read_csv(file,index_col=0)\n",
        "fix , ax = plt.subplots()\n",
        "ax.bar(medals.index, medals[\"Gold\"])\n",
        "ax.set_xticklabels(medals.index , rotation=90)\n",
        "ax.set_ylabel(\"Numbers of medals\")\n",
        "plt.show()"
      ],
      "execution_count": 21,
      "outputs": [
        {
          "output_type": "display_data",
          "data": {
            "image/png": "[encoded data removed]",
            "text/plain": [
              "<Figure size 432x288 with 1 Axes>"
            ]
          },
          "metadata": {
            "tags": [],
            "needs_background": "light"
          }
        }
      ]
    },
    {
      "cell_type": "markdown",
      "metadata": {
        "id": "caXIXeKWJhoL"
      },
      "source": [
        "# **Olympic medals : visualizing the other model**"
      ]
    },
    {
      "cell_type": "code",
      "metadata": {
        "colab": {
          "base_uri": "https://localhost:8080/",
          "height": 323
        },
        "id": "rWXRvp2wJUxh",
        "outputId": "4c1ec2de-8666-4010-f328-66c9aec3409b"
      },
      "source": [
        "medals = pd.read_csv(file,index_col=0)\n",
        "fix , ax = plt.subplots()\n",
        "ax.bar(medals.index, medals[\"Gold\"])\n",
        "ax.bar(medals.index , medals[\"Silver\"],bottom=medals[\"Gold\"])\n",
        "ax.set_xticklabels(medals.index , rotation=90)\n",
        "ax.set_ylabel(\"Numbers of medals\")\n",
        "plt.show()"
      ],
      "execution_count": 23,
      "outputs": [
        {
          "output_type": "display_data",
          "data": {
            "image/png": "[encoded data removed]",
            "text/plain": [
              "<Figure size 432x288 with 1 Axes>"
            ]
          },
          "metadata": {
            "tags": [],
            "needs_background": "light"
          }
        }
      ]
    },
    {
      "cell_type": "markdown",
      "metadata": {
        "id": "SlFuH-uHLpc2"
      },
      "source": [
        "# **olympic medals : visualizing all three**"
      ]
    },
    {
      "cell_type": "code",
      "metadata": {
        "colab": {
          "base_uri": "https://localhost:8080/",
          "height": 323
        },
        "id": "dOlU8ohtJceo",
        "outputId": "2174bd56-cf5a-43cd-a1bc-724eaadf9817"
      },
      "source": [
        "fix , ax = plt.subplots()\n",
        "\n",
        "ax.bar(medals.index , medals[\"Gold\"])\n",
        "ax.bar(medals.index , medals[\"Silver\"] , bottom = medals[\"Gold\"])\n",
        "ax.bar(medals.index , medals[\"Bronze\"],\n",
        "       bottom=medals[\"Gold\"] + medals[\"Silver\"])\n",
        "ax.set_xticklabels(medals.index,rotation=90)\n",
        "ax.set_ylabel(\"Number of medals\")\n",
        "plt.show()"
      ],
      "execution_count": 25,
      "outputs": [
        {
          "output_type": "display_data",
          "data": {
            "image/png": "[encoded data removed]",
            "text/plain": [
              "<Figure size 432x288 with 1 Axes>"
            ]
          },
          "metadata": {
            "tags": [],
            "needs_background": "light"
          }
        }
      ]
    },
    {
      "cell_type": "markdown",
      "metadata": {
        "id": "ircSd5udOqFu"
      },
      "source": [
        "## **Stacked Bar chart**"
      ]
    },
    {
      "cell_type": "code",
      "metadata": {
        "colab": {
          "base_uri": "https://localhost:8080/",
          "height": 323
        },
        "id": "e3md5kTbOjNn",
        "outputId": "c1e4cb67-da15-4ac9-a754-70c274afae21"
      },
      "source": [
        "# Adding a legend\n",
        "fix , ax = plt.subplots()\n",
        "\n",
        "ax.bar(medals.index , medals[\"Gold\"],label =\"Golf\")\n",
        "ax.bar(medals.index , medals[\"Silver\"] , bottom = medals[\"Gold\"],label=\"Silver\")\n",
        "ax.bar(medals.index , medals[\"Bronze\"],\n",
        "       bottom=medals[\"Gold\"] + medals[\"Silver\"],label=\"Bronze\")\n",
        "ax.set_xticklabels(medals.index,rotation=90)\n",
        "ax.set_ylabel(\"Number of medals\")\n",
        "\n",
        "ax.legend() ## \n",
        "plt.show()\n"
      ],
      "execution_count": 29,
      "outputs": [
        {
          "output_type": "display_data",
          "data": {
            "image/png": "[encoded data removed]",
            "text/plain": [
              "<Figure size 432x288 with 1 Axes>"
            ]
          },
          "metadata": {
            "tags": [],
            "needs_background": "light"
          }
        }
      ]
    },
    {
      "cell_type": "code",
      "metadata": {
        "id": "S_SMEjQpPKRS"
      },
      "source": [
        ""
      ],
      "execution_count": null,
      "outputs": []
    }
  ]
}